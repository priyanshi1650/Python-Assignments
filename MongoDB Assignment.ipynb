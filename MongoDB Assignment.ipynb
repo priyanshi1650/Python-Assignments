{
 "cells": [
  {
   "cell_type": "markdown",
   "metadata": {},
   "source": [
    "# MongoDB Assignment"
   ]
  },
  {
   "cell_type": "markdown",
   "metadata": {},
   "source": [
    "## Question 1: Write a python script to create a databse of students named Students."
   ]
  },
  {
   "cell_type": "code",
   "execution_count": 2,
   "metadata": {},
   "outputs": [],
   "source": [
    "import pymongo\n",
    "# importing pymongo module"
   ]
  },
  {
   "cell_type": "code",
   "execution_count": 3,
   "metadata": {},
   "outputs": [],
   "source": [
    "# initiallize the MongoClient\n",
    "client = pymongo.MongoClient()\n",
    "\n",
    "# creating a database 'mongodb' and connecting to it. \n",
    "database = client['mongodb']\n",
    "\n",
    "# creating the collection 'Students' in the database 'mongodb'\n",
    "collection = database['Students']\n",
    "\n"
   ]
  },
  {
   "cell_type": "markdown",
   "metadata": {},
   "source": [
    "## Question 2: Take students name and marks(between 0-100) as input from user 10 times using loops."
   ]
  },
  {
   "cell_type": "markdown",
   "metadata": {},
   "source": [
    "## Question 3: Add these values in two columns named \"Name\" and \"Marks\" with the appropriate data type."
   ]
  },
  {
   "cell_type": "code",
   "execution_count": null,
   "metadata": {},
   "outputs": [],
   "source": [
    "i=0\n",
    "while i<1:\n",
    "    \n",
    "    name=input(\"Enter the name: \")\n",
    "    marks=int(input(\"Enter the marks: \"))\n",
    "    collection.insert_one({'Name':name, 'Marks':marks})\n",
    "    i=i+1"
   ]
  },
  {
   "cell_type": "code",
   "execution_count": null,
   "metadata": {},
   "outputs": [],
   "source": [
    "data=collection.find()\n",
    "for document in data:\n",
    "    print(document)"
   ]
  },
  {
   "cell_type": "markdown",
   "metadata": {},
   "source": [
    "## Question 4: Print the names of all the students who scored more than 80 marks."
   ]
  },
  {
   "cell_type": "code",
   "execution_count": null,
   "metadata": {},
   "outputs": [],
   "source": [
    "find={'Marks':{'$gt':80}}\n",
    "Data=collection.find(find)\n",
    "for i in Data:\n",
    "    print(\"Name: {} Marks:{}\".format(i['Name'],i['Marks']))"
   ]
  },
  {
   "cell_type": "code",
   "execution_count": null,
   "metadata": {},
   "outputs": [],
   "source": []
  }
 ],
 "metadata": {
  "kernelspec": {
   "display_name": "Python 3",
   "language": "python",
   "name": "python3"
  },
  "language_info": {
   "codemirror_mode": {
    "name": "ipython",
    "version": 3
   },
   "file_extension": ".py",
   "mimetype": "text/x-python",
   "name": "python",
   "nbconvert_exporter": "python",
   "pygments_lexer": "ipython3",
   "version": "3.7.0"
  }
 },
 "nbformat": 4,
 "nbformat_minor": 2
}
